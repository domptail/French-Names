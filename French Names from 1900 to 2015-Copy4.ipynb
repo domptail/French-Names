{
 "cells": [
  {
   "cell_type": "markdown",
   "metadata": {},
   "source": [
    "# Analysis of French first names between 1900 and 2015\n",
    "\n",
    "USING INSEE FILES AVAILABLE AT: https://www.insee.fr/fr/statistiques/2540004#consulter"
   ]
  },
  {
   "cell_type": "markdown",
   "metadata": {},
   "source": [
    "## Content:\n",
    "\n",
    "0. Import and explore the dataset\n",
    "1. Most common names in 2015\n",
    "2. Evolution of some specific names throughout the years\n",
    "3. Evolution of the number of names\n",
    "4. Evolution of the length of names"
   ]
  },
  {
   "cell_type": "markdown",
   "metadata": {},
   "source": [
    "## 0. Import and explore the dataset"
   ]
  },
  {
   "cell_type": "markdown",
   "metadata": {},
   "source": [
    "### Presentation of the features"
   ]
  },
  {
   "cell_type": "code",
   "execution_count": 19,
   "metadata": {
    "collapsed": false
   },
   "outputs": [
    {
     "name": "stdout",
     "output_type": "stream",
     "text": [
      "   sexe preusuel annais  nombre\n",
      "0     1        A   1980     3.0\n",
      "1     1        A   1998     3.0\n",
      "2     1        A   XXXX    21.0\n",
      "3     1    AADEL   1976     5.0\n",
      "4     1    AADEL   1978     3.0\n"
     ]
    }
   ],
   "source": [
    "import pandas as pd\n",
    "df = pd.read_csv('nat2015.txt', sep = '\\t', encoding = 'latin1')\n",
    "print(df.head())\n",
    "\n",
    "# Alternatively, can use Excel to convert the txt file into csv format \n",
    "# use the tab delimiter and 1252: Western European (Windows) (to properly display the French characters (é, ï, etc.))."
   ]
  },
  {
   "cell_type": "markdown",
   "metadata": {},
   "source": [
    "The file contains four features:\n",
    "- 'sexe': 1 for male, 2 for female\n",
    "- 'preusuel': first name\n",
    "- 'annais': year of birth, between 1900 and 2015\n",
    "- 'nombre': number of people that year with that first name\n",
    "\n",
    "INSEE used the following criteria to include a name or not:\n",
    "1. Between 1900 and 1945, the name has been given at least 20 times to females and/or at least 20 times to males.\n",
    "2. Between 1946 and 2015, the name has been given at least 20 times to females and/or at least 20 times to males.\n",
    "3. For a given year, the name has been given at least 3 times to females or males.\n",
    "\n",
    "Names that do not comply with conditions 1 and 2 are grouped by sex and year of birth under one entry with the value 'PRENOMS_RARES' (rare names) in the 'preusuel' column.\n",
    "\n",
    "Names that comply with condition 2 but not condition 3 are grouped by sex and name under one entry with the value 'XXXX' in the 'annais' column."
   ]
  },
  {
   "cell_type": "markdown",
   "metadata": {},
   "source": [
    "### Change column names"
   ]
  },
  {
   "cell_type": "code",
   "execution_count": 20,
   "metadata": {
    "collapsed": false
   },
   "outputs": [
    {
     "name": "stdout",
     "output_type": "stream",
     "text": [
      "   sex   name  year  number\n",
      "0    1      A  1980     3.0\n",
      "1    1      A  1998     3.0\n",
      "2    1      A  XXXX    21.0\n",
      "3    1  AADEL  1976     5.0\n",
      "4    1  AADEL  1978     3.0\n"
     ]
    }
   ],
   "source": [
    "df.columns = ['sex', 'name', 'year', 'number']\n",
    "print(df.head())"
   ]
  },
  {
   "cell_type": "markdown",
   "metadata": {},
   "source": [
    "### Example with the first name 'A'"
   ]
  },
  {
   "cell_type": "code",
   "execution_count": 21,
   "metadata": {
    "collapsed": false
   },
   "outputs": [
    {
     "name": "stdout",
     "output_type": "stream",
     "text": [
      "   sex name  year  number\n",
      "0    1    A  1980     3.0\n",
      "1    1    A  1998     3.0\n",
      "2    1    A  XXXX    21.0\n"
     ]
    }
   ],
   "source": [
    "dfA = df[(df.name) == 'A']\n",
    "print(dfA)"
   ]
  },
  {
   "cell_type": "markdown",
   "metadata": {},
   "source": [
    "- The first name 'A' was given 3 times to males in 1980\n",
    "- The first name 'A' was given 3 times to males in 1998\n",
    "- The first name 'A' was given 21 times between 1946 and 2015 but never more than 3 times for a given year except in 1980 and 1998"
   ]
  },
  {
   "cell_type": "markdown",
   "metadata": {},
   "source": [
    "### General characteristics of the dataset\n",
    "\n",
    "There are 589,411 entries (rows) in the dataset.\n",
    "\n",
    "The gender ('sex') and number of people ('number') are considered integers.\n",
    "\n",
    "The names ('name') and year ('year') are considered objects (strings). Years are considered strings because they include 'XXXX' values."
   ]
  },
  {
   "cell_type": "code",
   "execution_count": 22,
   "metadata": {
    "collapsed": false
   },
   "outputs": [
    {
     "name": "stdout",
     "output_type": "stream",
     "text": [
      "<class 'pandas.core.frame.DataFrame'>\n",
      "RangeIndex: 589411 entries, 0 to 589410\n",
      "Data columns (total 4 columns):\n",
      "sex       589411 non-null int64\n",
      "name      589408 non-null object\n",
      "year      589411 non-null object\n",
      "number    589411 non-null float64\n",
      "dtypes: float64(1), int64(1), object(2)\n",
      "memory usage: 79.9 MB\n"
     ]
    }
   ],
   "source": [
    "df.info(memory_usage=\"deep\")\n",
    "\n",
    "# Alternative way to get info:\n",
    "# print(len(df.index))\n",
    "# print(df.sex.dtype)\n",
    "# print(df.name.dtype)\n",
    "# print(df.year.dtype)\n",
    "# print(df.number.dtype)"
   ]
  },
  {
   "cell_type": "code",
   "execution_count": 23,
   "metadata": {
    "collapsed": false
   },
   "outputs": [
    {
     "name": "stdout",
     "output_type": "stream",
     "text": [
      "     sex   name  year  number\n",
      "0  False      A  1980     3.0\n",
      "1  False      A  1998     3.0\n",
      "2  False      A  XXXX    21.0\n",
      "3  False  AADEL  1976     5.0\n",
      "4  False  AADEL  1978     3.0\n",
      "bool\n"
     ]
    }
   ],
   "source": [
    "# Convert gender ('sex') data from integers (1 and 2) to Boolean (False for male and True for female)\n",
    "d = {1: False, 2: True}\n",
    "df.sex = df.sex.apply(lambda x: d[x])\n",
    "\n",
    "print(df.head())\n",
    "print(df.sex.dtype)"
   ]
  },
  {
   "cell_type": "code",
   "execution_count": 24,
   "metadata": {
    "collapsed": false
   },
   "outputs": [
    {
     "name": "stdout",
     "output_type": "stream",
     "text": [
      "     sex   name  year  number\n",
      "0  False      A  1980     3.0\n",
      "1  False      A  1998     3.0\n",
      "2  False      A     0    21.0\n",
      "3  False  AADEL  1976     5.0\n",
      "4  False  AADEL  1978     3.0\n",
      "int16\n"
     ]
    }
   ],
   "source": [
    "# Convert year ('year') data from objects (strings) to integers\n",
    "\n",
    "# Method 1 - Replace the 'XXXX' values in the 'year' column with 0, then convert to integer \n",
    "# Note 1: if replace by NaN, cannot convert to integer \n",
    "# 'The lack of NaN rep in integer columns is a pandas \"gotcha\".'\n",
    "# http://stackoverflow.com/questions/21287624/convert-pandas-column-containing-nans-to-dtype-int\n",
    "# Note 2: without using pd.to_numeric, get int32 instead of int16 (which takes more memory)\n",
    "import numpy as np\n",
    "df.year = df.year.replace('XXXX', 0)\n",
    "df.year = df.year.astype('int')\n",
    "df.year = pd.to_numeric(df.year, errors = 'coerce', downcast = 'integer')\n",
    "\n",
    "# Method 2 - Change the type of 'year' to numeric (errors = 'coerce' sets invalid entries as NaN)\n",
    "# Note: Get Float64 not integer\n",
    "# df.year = pd.to_numeric(df.year, errors = 'coerce', downcast = 'integer')\n",
    "\n",
    "# Note: When replacing 'XXXX' in the 'year' column by 0 (instead of NaN), need to exclude 0 from the x-axis in the graphs. \n",
    "\n",
    "print(df.head())\n",
    "print(df.year.dtype)"
   ]
  },
  {
   "cell_type": "code",
   "execution_count": 25,
   "metadata": {
    "collapsed": false
   },
   "outputs": [
    {
     "name": "stdout",
     "output_type": "stream",
     "text": [
      "Maximum value in the \"number\" column: 53897.0\n",
      "Output range of int 8: 127\n",
      "Output range of int 16: 32767\n",
      "Output range of int 32: 2147483647\n"
     ]
    }
   ],
   "source": [
    "print('Maximum value in the \"number\" column: ' + str(df.number.max()))\n",
    "print('Output range of int 8: ' + str(np.iinfo(\"int8\").max))\n",
    "print('Output range of int 16: ' + str(np.iinfo(\"int16\").max))\n",
    "print('Output range of int 32: ' + str(np.iinfo(\"int32\").max))\n",
    "\n",
    "# Convert the 'number' column from int64 to int32\n",
    "df.number = pd.to_numeric(df.number, errors = 'coerce', downcast = 'integer')"
   ]
  },
  {
   "cell_type": "code",
   "execution_count": 26,
   "metadata": {
    "collapsed": false
   },
   "outputs": [
    {
     "name": "stdout",
     "output_type": "stream",
     "text": [
      "<class 'pandas.core.frame.DataFrame'>\n",
      "RangeIndex: 589411 entries, 0 to 589410\n",
      "Data columns (total 4 columns):\n",
      "sex       589411 non-null bool\n",
      "name      589408 non-null object\n",
      "year      589411 non-null int16\n",
      "number    589411 non-null int32\n",
      "dtypes: bool(1), int16(1), int32(1), object(1)\n",
      "memory usage: 40.5 MB\n"
     ]
    }
   ],
   "source": [
    "# The memory usage went from 80 MB to 40 MB\n",
    "df.info(memory_usage=\"deep\")"
   ]
  },
  {
   "cell_type": "markdown",
   "metadata": {
    "collapsed": true
   },
   "source": [
    "## 1. Explore the most common names in 2015"
   ]
  },
  {
   "cell_type": "code",
   "execution_count": 27,
   "metadata": {
    "collapsed": false
   },
   "outputs": [
    {
     "name": "stdout",
     "output_type": "stream",
     "text": [
      "There were 778691 people born in 2015 in France.\n",
      "There were 12355 different names given in 2015 in France.\n",
      "There were 376 names given to both males and females in 2015 in France.\n"
     ]
    }
   ],
   "source": [
    "# Create a dataframe with only the 2015 names\n",
    "df2015 = df[(df.year) == 2015]\n",
    "\n",
    "print('There were ' + str(int(sum(df2015.number))) + ' people born in 2015 in France.')\n",
    "\n",
    "print('There were ' + str(int(df2015.name.nunique())) + ' different names given in 2015 in France.')\n",
    "\n",
    "print('There were ' + str(int(len(df2015.index) - df2015.name.nunique())) + ' names given to both males and females in 2015 in France.')"
   ]
  },
  {
   "cell_type": "code",
   "execution_count": 28,
   "metadata": {
    "collapsed": false
   },
   "outputs": [
    {
     "name": "stdout",
     "output_type": "stream",
     "text": [
      "       sex    name  year  number\n",
      "32   False   AADIL  2015       6\n",
      "87   False   AARON  2015    2159\n",
      "101  False  AARONE  2015       8\n",
      "111  False  AARONN  2015       8\n",
      "116  False  AAROUN  2015       4\n",
      "There were 5948 different male names given in 2015 in France.\n"
     ]
    }
   ],
   "source": [
    "# Create a dataframe with only the 2015 male names\n",
    "df2015M = df[((df.year) == 2015) & ((df.sex) == False)]\n",
    "print(df2015M.head())\n",
    "print('There were ' + str(len(df2015M.index)) + ' different male names given in 2015 in France.')\n",
    "\n",
    "# Note: Creating df2015M as df2015M = df2015[(df.sex) == False] created the following User Warning:\n",
    "# 'Boolean Series key will be reindexed to match DataFrame index.'"
   ]
  },
  {
   "cell_type": "code",
   "execution_count": 29,
   "metadata": {
    "collapsed": false
   },
   "outputs": [
    {
     "name": "stdout",
     "output_type": "stream",
     "text": [
      "         sex     name  year  number\n",
      "268089  True   AALIYA  2015       9\n",
      "268108  True  AALIYAH  2015     187\n",
      "268123  True    AALYA  2015       7\n",
      "268140  True   AALYAH  2015      21\n",
      "268170  True    ABBIE  2015      16\n",
      "There were 6783 different female names given in 2015 in France.\n"
     ]
    }
   ],
   "source": [
    "# Create a dataframe with only the 2015 female names\n",
    "df2015F = df[((df.year) == 2015) & ((df.sex) == 1)]\n",
    "print(df2015F.head())\n",
    "print('There were ' + str(len(df2015F.index)) + ' different female names given in 2015 in France.')"
   ]
  },
  {
   "cell_type": "code",
   "execution_count": 30,
   "metadata": {
    "collapsed": false
   },
   "outputs": [
    {
     "name": "stdout",
     "output_type": "stream",
     "text": [
      "          sex            name  year  number\n",
      "267677  False  _PRENOMS_RARES  2015   26758\n",
      "86800   False         GABRIEL  2015    5640\n",
      "136284  False           JULES  2015    5147\n",
      "156532  False           LUCAS  2015    5011\n",
      "154454  False           LOUIS  2015    4748\n",
      "6418    False            ADAM  2015    4526\n",
      "107522  False            HUGO  2015    4349\n",
      "159457  False             LÉO  2015    4303\n",
      "208769  False         RAPHAËL  2015    4196\n",
      "74146   False           ETHAN  2015    4135\n",
      "         sex            name  year  number\n",
      "588636  True  _PRENOMS_RARES  2015   29349\n",
      "442241  True          LOUISE  2015    4540\n",
      "354188  True            EMMA  2015    4399\n",
      "400974  True            JADE  2015    4292\n",
      "323634  True           CHLOÉ  2015    3598\n",
      "458372  True           MANON  2015    3530\n",
      "276692  True           ALICE  2015    3336\n",
      "435420  True            LINA  2015    3191\n",
      "448550  True             LÉA  2015    3100\n",
      "439018  True            LOLA  2015    3061\n"
     ]
    }
   ],
   "source": [
    "# Sort the dataframes and show the most common 20 names\n",
    "df2015M = df2015M.sort_values(by='number', ascending=False)\n",
    "df2015F = df2015F.sort_values(by='number', ascending=False)\n",
    "print(df2015M.head(10))\n",
    "print(df2015F.head(10))"
   ]
  },
  {
   "cell_type": "markdown",
   "metadata": {
    "collapsed": true
   },
   "source": [
    "## 2. See the evolution of some specific names throughout the years"
   ]
  },
  {
   "cell_type": "markdown",
   "metadata": {},
   "source": [
    "### My first name: Kim!"
   ]
  },
  {
   "cell_type": "code",
   "execution_count": 31,
   "metadata": {
    "collapsed": false
   },
   "outputs": [
    {
     "name": "stdout",
     "output_type": "stream",
     "text": [
      "There have been 5932 people named Kim in France between 1900 and 2015.\n",
      "including 1165 males\n",
      "and 4767 females.\n"
     ]
    }
   ],
   "source": [
    "dfKIM = df[(df.name) == 'KIM']\n",
    "print('There have been ' + str(sum(dfKIM.number)) + ' people named Kim in France between 1900 and 2015.')\n",
    "\n",
    "dfKIM_M = df[((df.name) == 'KIM') & ((df.sex) == False)]\n",
    "print('including ' + str(sum(dfKIM_M.number)) + ' males')\n",
    "\n",
    "dfKIM_F = df[((df.name) == 'KIM') & ((df.sex) == True)]\n",
    "print('and ' + str(sum(dfKIM_F.number)) + ' females.')"
   ]
  },
  {
   "cell_type": "code",
   "execution_count": 32,
   "metadata": {
    "collapsed": false
   },
   "outputs": [
    {
     "name": "stdout",
     "output_type": "stream",
     "text": [
      "There were almost no Kim at all in France before 1952 (males) and 1954 (females).\n"
     ]
    },
    {
     "data": {
      "image/png": "[encoded data removed]",
      "text/plain": [
       "<matplotlib.figure.Figure at 0x21a17d20588>"
      ]
     },
     "metadata": {},
     "output_type": "display_data"
    }
   ],
   "source": [
    "print('There were almost no Kim at all in France before 1952 (males) and 1954 (females).')\n",
    "\n",
    "dfKIM_M = df[((df.name) == 'KIM') & ((df.sex) == False) & ((df.year) != 0)]\n",
    "dfKIM_F = df[((df.name) == 'KIM') & ((df.sex) == True) & ((df.year) != 0)]\n",
    "\n",
    "import matplotlib.pyplot as plt\n",
    "\n",
    "plt.plot(dfKIM_M.year, dfKIM_M.number, label = 'Kim (male)')\n",
    "plt.plot(dfKIM_F.year, dfKIM_F.number, label = 'Kim (female)')\n",
    "plt.xlim([1900,2015])\n",
    "plt.ylim([0,250])\n",
    "plt.legend(loc='upper left')\n",
    "plt.xlabel('Year')\n",
    "plt.ylabel('Number of people')\n",
    "plt.show()"
   ]
  },
  {
   "cell_type": "markdown",
   "metadata": {},
   "source": [
    "#### In 1986, the year I was born:"
   ]
  },
  {
   "cell_type": "code",
   "execution_count": 33,
   "metadata": {
    "collapsed": false
   },
   "outputs": [
    {
     "name": "stdout",
     "output_type": "stream",
     "text": [
      "There were 47 females named Kim in France in 1986\n",
      "There were 32 males named Kim in France in 1986\n"
     ]
    }
   ],
   "source": [
    "dfKIM_F86 = dfKIM_F[(dfKIM_F.year) == 1986]\n",
    "print('There were ' + str(sum(dfKIM_F86.number)) + ' females named Kim in France in 1986')\n",
    "\n",
    "dfKIM_M86 = dfKIM_M[(dfKIM_M.year) == 1986]\n",
    "print('There were ' + str(sum(dfKIM_M86.number)) + ' males named Kim in France in 1986')"
   ]
  },
  {
   "cell_type": "code",
   "execution_count": 34,
   "metadata": {
    "collapsed": false
   },
   "outputs": [
    {
     "name": "stdout",
     "output_type": "stream",
     "text": [
      "795198 people were born in 1986 in France.\n",
      "Only 0.01% of them were named Kim!\n"
     ]
    }
   ],
   "source": [
    "df1986 = df[(df.year) == 1986]\n",
    "\n",
    "print(str(sum(df1986.number)) + ' people were born in 1986 in France.')\n",
    "\n",
    "print('Only ' + str(round((sum(dfKIM_F86.number) + sum(dfKIM_M86.number)) / sum(df1986.number)*100, 2)) + \n",
    "      '% of them were named Kim!')"
   ]
  },
  {
   "cell_type": "markdown",
   "metadata": {},
   "source": [
    "### My husband's name: David"
   ]
  },
  {
   "cell_type": "code",
   "execution_count": 35,
   "metadata": {
    "collapsed": false
   },
   "outputs": [
    {
     "name": "stdout",
     "output_type": "stream",
     "text": [
      "There have been 310421 people named David in France between 1900 and 2015 (including a couple of females).\n",
      "There were 5426 people named David in France in 1986\n"
     ]
    }
   ],
   "source": [
    "dfDAVID = df[(df.name) == 'DAVID']\n",
    "print('There have been ' + str(sum(dfDAVID.number)) + \n",
    "      ' people named David in France between 1900 and 2015 (including a couple of females).')\n",
    "\n",
    "dfDAVID_86 = df[((df.name) == 'DAVID') & ((df.year) == 1986)]\n",
    "print('There were ' + str(sum(dfDAVID_86.number)) + ' people named David in France in 1986')"
   ]
  },
  {
   "cell_type": "code",
   "execution_count": 36,
   "metadata": {
    "collapsed": false
   },
   "outputs": [
    {
     "name": "stdout",
     "output_type": "stream",
     "text": [
      "407362 males were born in 1986 in France.\n",
      "1.33% of them were named David.\n"
     ]
    }
   ],
   "source": [
    "df1986M = df[((df.year) == 1986) & ((df.sex) == False)]\n",
    "\n",
    "print(str(sum(df1986M.number)) + ' males were born in 1986 in France.')\n",
    "\n",
    "print(str(round(sum(dfDAVID_86.number) / sum(df1986M.number)*100, 2)) + '% of them were named David.')"
   ]
  },
  {
   "cell_type": "code",
   "execution_count": 37,
   "metadata": {
    "collapsed": false
   },
   "outputs": [
    {
     "name": "stdout",
     "output_type": "stream",
     "text": [
      "          sex            name  year  number\n",
      "136562  False          JULIEN  1986   15332\n",
      "189369  False         NICOLAS  1986   12504\n",
      "96138   False       GUILLAUME  1986    9087\n",
      "12919   False       ALEXANDRE  1986    8743\n",
      "238197  False       SÉBASTIEN  1986    8157\n",
      "243248  False          THOMAS  1986    8140\n",
      "267648  False  _PRENOMS_RARES  1986    8111\n",
      "215542  False          ROMAIN  1986    8026\n",
      "21918   False         ANTHONY  1986    7984\n",
      "132493  False        JONATHAN  1986    7620\n",
      "127805  False          JEREMY  1986    7082\n",
      "169668  False         MATHIEU  1986    6929\n",
      "53105   False          DAMIEN  1986    6313\n",
      "251989  False         VINCENT  1986    5944\n",
      "55070   False           DAVID  1986    5426\n",
      "3.763728575566695\n"
     ]
    }
   ],
   "source": [
    "# By comparison, the most common male name in 1986 was Julien with 15,332 people, 3.76% of all males born that year\n",
    "df1986M = df1986M.sort_values(by = 'number', ascending = False)\n",
    "\n",
    "print(df1986M.head(15))\n",
    "print(15332/407362*100)"
   ]
  },
  {
   "cell_type": "markdown",
   "metadata": {},
   "source": [
    "### Creating a function to get statistics and graphs on a given first name and birth year"
   ]
  },
  {
   "cell_type": "code",
   "execution_count": 38,
   "metadata": {
    "collapsed": false
   },
   "outputs": [],
   "source": [
    "def name_stats(name, year):\n",
    "    name = name.upper()\n",
    "    \n",
    "    # General statistics\n",
    "    print('Number of ' + str(name).title() + ' in France between 1900 and 2015:')\n",
    "    dfNAME = df[(df.name) == name]\n",
    "    print('Total: ' + str(sum(dfNAME.number)))\n",
    "    dfNAME_M = df[((df.name) == name) & ((df.sex) == 0)]\n",
    "    print('Male ' + str(sum(dfNAME_M.number)))\n",
    "    dfNAME_F = df[((df.name) == name) & ((df.sex) == 1)]\n",
    "    print('Female ' + str(sum(dfNAME_F.number)))\n",
    "    \n",
    "    # Statistics in given year\n",
    "    print('Number of ' + str(name).title() + ' in France in ' + str(year) + ':')\n",
    "    dfNAME_yr = df[((df.name) == name) & ((df.year) == year)]\n",
    "    print('Total: ' + str(sum(dfNAME_yr.number)))\n",
    "    dfNAME_Myr = df[((df.name) == name) & ((df.sex) == 0) & ((df.year) == year)]\n",
    "    print('Males: ' + str(sum(dfNAME_Myr.number)))\n",
    "    dfNAME_Fyr = df[((df.name) == name) & ((df.sex) == 1) & ((df.year) == year)]\n",
    "    print('Females: ' + str(sum(dfNAME_Fyr.number)))\n",
    "        \n",
    "    # Graph\n",
    "    plt.plot(dfNAME_M.year, dfNAME_M.number, label = str(name) + ' (male)')\n",
    "    plt.xlim([1900,2015])\n",
    "    plt.legend(loc='upper left')\n",
    "    plt.xlabel('Year')\n",
    "    plt.ylabel('Number of people')\n",
    "    plt.plot(dfNAME_F.year, dfNAME_F.number, label = str(name) + ' (female)')\n",
    "    plt.xlim([1900,2015])\n",
    "    plt.legend(loc='upper left')\n",
    "    plt.xlabel('Year')\n",
    "    plt.ylabel('Number of people')\n",
    "    plt.show()\n",
    "    \n",
    "    # Most common names in given year\n",
    "    df_yrM = df[((df.year) == year) & ((df.sex) == 0)]\n",
    "    df_yrF = df[((df.year) == year) & ((df.sex) == 1)]\n",
    "    df_yrM = df_yrM.sort_values(by='number', ascending=False)\n",
    "    df_yrF = df_yrF.sort_values(by='number', ascending=False)\n",
    "    print('Top 5 male names in ' + str(year))\n",
    "    print(df_yrM[['name', 'number']].head(5))\n",
    "    print('Top 5 female names in ' + str(year))\n",
    "    print(df_yrF[['name', 'number']].head(5))\n",
    "    \n",
    "    # Rank\n",
    "    df_yrM['rank'] = df_yrM['number'].rank(ascending=0)\n",
    "    print('In ' + str(year) + ', '+ str(name) + ' was the ' + \n",
    "          str(df_yrM.loc[df_yrM['name'] == name]['rank'].values) + 'th most popular male name.')\n",
    "  \n",
    "    df_yrF['rank'] = df_yrF['number'].rank(ascending=0)\n",
    "    print('In ' + str(year) + ', '+ str(name) + ' was the ' + \n",
    "          str(df_yrF.loc[df_yrF['name'] == name]['rank'].values) + 'th most popular female name.')  \n"
   ]
  },
  {
   "cell_type": "code",
   "execution_count": 39,
   "metadata": {
    "collapsed": false
   },
   "outputs": [
    {
     "name": "stdout",
     "output_type": "stream",
     "text": [
      "Number of Laura in France between 1900 and 2015:\n",
      "Total: 145488\n",
      "Male 0\n",
      "Female 145488\n",
      "Number of Laura in France in 1994:\n",
      "Total: 7937\n",
      "Males: 0\n",
      "Females: 7937\n"
     ]
    },
    {
     "data": {
      "image/png": "[encoded data removed]",
      "text/plain": [
       "<matplotlib.figure.Figure at 0x21a1832dc88>"
      ]
     },
     "metadata": {},
     "output_type": "display_data"
    },
    {
     "name": "stdout",
     "output_type": "stream",
     "text": [
      "Top 5 male names in 1994\n",
      "                  name  number\n",
      "267656  _PRENOMS_RARES   10063\n",
      "142600           KEVIN    9906\n",
      "189377         NICOLAS    9250\n",
      "12927        ALEXANDRE    8829\n",
      "243256          THOMAS    8149\n",
      "Top 5 female names in 1994\n",
      "                  name  number\n",
      "588615  _PRENOMS_RARES   10218\n",
      "425888           LAURA    7937\n",
      "458351           MANON    7486\n",
      "462543           MARIE    7231\n",
      "313867         CAMILLE    7020\n",
      "In 1994, LAURA was the []th most popular male name.\n",
      "In 1994, LAURA was the [ 2.]th most popular female name.\n"
     ]
    }
   ],
   "source": [
    "# Testing the function\n",
    "name_stats('Laura', 1994)"
   ]
  },
  {
   "cell_type": "code",
   "execution_count": 40,
   "metadata": {
    "collapsed": false
   },
   "outputs": [
    {
     "name": "stdout",
     "output_type": "stream",
     "text": [
      "Number of Anna in France between 1900 and 2015:\n",
      "Total: 104524\n",
      "Male 0\n",
      "Female 104524\n",
      "Number of Anna in France in 2001:\n",
      "Total: 1271\n",
      "Males: 0\n",
      "Females: 1271\n"
     ]
    },
    {
     "data": {
      "image/png": "[encoded data removed]",
      "text/plain": [
       "<matplotlib.figure.Figure at 0x21a179a46a0>"
      ]
     },
     "metadata": {},
     "output_type": "display_data"
    },
    {
     "name": "stdout",
     "output_type": "stream",
     "text": [
      "Top 5 male names in 2001\n",
      "                  name  number\n",
      "267663  _PRENOMS_RARES   13987\n",
      "243263          THOMAS   10104\n",
      "156518           LUCAS    9038\n",
      "243658            THÉO    8864\n",
      "107508            HUGO    7050\n",
      "Top 5 female names in 2001\n",
      "                  name  number\n",
      "588622  _PRENOMS_RARES   15340\n",
      "448536             LÉA   10725\n",
      "458358           MANON    7593\n",
      "323620           CHLOÉ    7040\n",
      "313874         CAMILLE    6588\n",
      "In 2001, ANNA was the []th most popular male name.\n",
      "In 2001, ANNA was the [ 60.]th most popular female name.\n"
     ]
    }
   ],
   "source": [
    "name_stats('Anna', 2001)"
   ]
  },
  {
   "cell_type": "code",
   "execution_count": 41,
   "metadata": {
    "collapsed": false
   },
   "outputs": [
    {
     "name": "stdout",
     "output_type": "stream",
     "text": [
      "Number of Elisabeth in France between 1900 and 2015:\n",
      "Total: 161195\n",
      "Male 148\n",
      "Female 161047\n",
      "Number of Elisabeth in France in 1960:\n",
      "Total: 4117\n",
      "Males: 4\n",
      "Females: 4113\n"
     ]
    },
    {
     "data": {
      "image/png": "[encoded data removed]",
      "text/plain": [
       "<matplotlib.figure.Figure at 0x21a178c9fd0>"
      ]
     },
     "metadata": {},
     "output_type": "display_data"
    },
    {
     "name": "stdout",
     "output_type": "stream",
     "text": [
      "Top 5 male names in 1960\n",
      "            name  number\n",
      "201363  PHILIPPE   24761\n",
      "198704   PATRICK   18522\n",
      "119080      JEAN   17948\n",
      "198210    PASCAL   17782\n",
      "10564      ALAIN   15274\n",
      "Top 5 female names in 1960\n",
      "             name  number\n",
      "317507  CATHERINE   18049\n",
      "563797     SYLVIE   17656\n",
      "324800  CHRISTINE   15152\n",
      "462509      MARIE   15138\n",
      "311555   BRIGITTE   14615\n",
      "In 1960, ELISABETH was the [ 1202.]th most popular male name.\n",
      "In 1960, ELISABETH was the [ 24.]th most popular female name.\n"
     ]
    }
   ],
   "source": [
    "name_stats('Elisabeth', 1960)"
   ]
  },
  {
   "cell_type": "code",
   "execution_count": 42,
   "metadata": {
    "collapsed": false
   },
   "outputs": [
    {
     "name": "stdout",
     "output_type": "stream",
     "text": [
      "Number of Christian in France between 1900 and 2015:\n",
      "Total: 405293\n",
      "Male 405165\n",
      "Female 128\n",
      "Number of Christian in France in 1951:\n",
      "Total: 16682\n",
      "Males: 16678\n",
      "Females: 4\n"
     ]
    },
    {
     "data": {
      "image/png": "[encoded data removed]",
      "text/plain": [
       "<matplotlib.figure.Figure at 0x21a17368d30>"
      ]
     },
     "metadata": {},
     "output_type": "display_data"
    },
    {
     "name": "stdout",
     "output_type": "stream",
     "text": [
      "Top 5 male names in 1951\n",
      "             name  number\n",
      "119071       JEAN   35593\n",
      "176647     MICHEL   25140\n",
      "10555       ALAIN   23032\n",
      "35580     BERNARD   16987\n",
      "47097   CHRISTIAN   16678\n",
      "Top 5 female names in 1951\n",
      "             name  number\n",
      "462500      MARIE   25312\n",
      "478283    MARTINE   19008\n",
      "371390  FRANÇOISE   13652\n",
      "493626    MONIQUE   12798\n",
      "507418     NICOLE   11537\n",
      "In 1951, CHRISTIAN was the [ 5.]th most popular male name.\n",
      "In 1951, CHRISTIAN was the [ 1239.5]th most popular female name.\n"
     ]
    }
   ],
   "source": [
    "name_stats('Christian', 1951)"
   ]
  },
  {
   "cell_type": "code",
   "execution_count": 43,
   "metadata": {
    "collapsed": false
   },
   "outputs": [
    {
     "name": "stdout",
     "output_type": "stream",
     "text": [
      "Number of David in France between 1900 and 2015:\n",
      "Total: 310421\n",
      "Male 310289\n",
      "Female 132\n",
      "Number of David in France in 1986:\n",
      "Total: 5426\n",
      "Males: 5426\n",
      "Females: 0\n"
     ]
    },
    {
     "data": {
      "image/png": "[encoded data removed]",
      "text/plain": [
       "<matplotlib.figure.Figure at 0x21a179bccc0>"
      ]
     },
     "metadata": {},
     "output_type": "display_data"
    },
    {
     "name": "stdout",
     "output_type": "stream",
     "text": [
      "Top 5 male names in 1986\n",
      "             name  number\n",
      "136562     JULIEN   15332\n",
      "189369    NICOLAS   12504\n",
      "96138   GUILLAUME    9087\n",
      "12919   ALEXANDRE    8743\n",
      "238197  SÉBASTIEN    8157\n",
      "Top 5 female names in 1986\n",
      "             name  number\n",
      "302540    AURÉLIE   11320\n",
      "353631     EMILIE    9320\n",
      "411595      JULIE    8970\n",
      "350499     ELODIE    8527\n",
      "560205  STÉPHANIE    8429\n",
      "In 1986, DAVID was the [ 15.]th most popular male name.\n",
      "In 1986, DAVID was the []th most popular female name.\n"
     ]
    }
   ],
   "source": [
    "name_stats('david', 1986)"
   ]
  },
  {
   "cell_type": "code",
   "execution_count": 44,
   "metadata": {
    "collapsed": false
   },
   "outputs": [
    {
     "name": "stdout",
     "output_type": "stream",
     "text": [
      "Number of Bastien in France between 1900 and 2015:\n",
      "Total: 52257\n",
      "Male 52257\n",
      "Female 0\n",
      "Number of Bastien in France in 1981:\n",
      "Total: 449\n",
      "Males: 449\n",
      "Females: 0\n"
     ]
    },
    {
     "data": {
      "image/png": "[encoded data removed]",
      "text/plain": [
       "<matplotlib.figure.Figure at 0x21a15b26e48>"
      ]
     },
     "metadata": {},
     "output_type": "display_data"
    },
    {
     "name": "stdout",
     "output_type": "stream",
     "text": [
      "Top 5 male names in 1981\n",
      "             name  number\n",
      "189364    NICOLAS   20823\n",
      "136557     JULIEN   15058\n",
      "238192  SÉBASTIEN   14657\n",
      "55065       DAVID    9776\n",
      "96133   GUILLAUME    8839\n",
      "Top 5 female names in 1981\n",
      "             name  number\n",
      "333618     CÉLINE   12506\n",
      "302535    AURÉLIE   12364\n",
      "353626     EMILIE   10821\n",
      "577440   VIRGINIE    8893\n",
      "560200  STÉPHANIE    8523\n",
      "In 1981, BASTIEN was the [ 139.]th most popular male name.\n",
      "In 1981, BASTIEN was the []th most popular female name.\n"
     ]
    }
   ],
   "source": [
    "name_stats('Bastien', 1981)"
   ]
  },
  {
   "cell_type": "markdown",
   "metadata": {},
   "source": [
    "## 3. Evolution of the number of names"
   ]
  },
  {
   "cell_type": "markdown",
   "metadata": {},
   "source": [
    "### Number of births per year\n",
    "We can easily notice on the graph:\n",
    "- the dip in the number of births during WWI, from 548,000 in 1913 down to 283,000 in 1916 (-48% in 3 years)!\n",
    "- the dip in the number of births during WWII\n",
    "- the baby boom after WWII, from 592,000 in 1945 up to 893,000 in 1947 (+51% in 2 years)!"
   ]
  },
  {
   "cell_type": "code",
   "execution_count": 45,
   "metadata": {
    "collapsed": false
   },
   "outputs": [
    {
     "name": "stdout",
     "output_type": "stream",
     "text": [
      "Number of births in 1913: 548028\n",
      "Number of births in 1916: 282807\n",
      "Number of births in 1945: 591774\n",
      "Number of births in 1947: 892941\n"
     ]
    },
    {
     "data": {
      "image/png": "[encoded data removed]",
      "text/plain": [
       "<matplotlib.figure.Figure at 0x21a179cfb70>"
      ]
     },
     "metadata": {},
     "output_type": "display_data"
    }
   ],
   "source": [
    "annual_births = df.groupby(['year'])['number'].sum()\n",
    "\n",
    "for year in sorted({1913, 1916, 1945, 1947}):\n",
    "    print('Number of births in ' + str(year) + ': ' + str(annual_births[year]))\n",
    "\n",
    "annual_births.plot(kind='line', title = 'Number of births per year')\n",
    "plt.xlim([1900,2015])\n",
    "plt.xlabel('Year')\n",
    "plt.ylabel('Number of births')\n",
    "plt.show()"
   ]
  },
  {
   "cell_type": "markdown",
   "metadata": {},
   "source": [
    "### Number of different names per year\n",
    "\n",
    "The number of unique names per year has increased from less than 1,600 in 1900, to 6000+ in 1986 and 12,000+ in 2015."
   ]
  },
  {
   "cell_type": "code",
   "execution_count": 46,
   "metadata": {
    "collapsed": false
   },
   "outputs": [
    {
     "name": "stdout",
     "output_type": "stream",
     "text": [
      "Number of unique names in 1900: 1594\n",
      "Number of unique names in 1986: 6391\n",
      "Number of unique names in 2015: 12355\n"
     ]
    },
    {
     "data": {
      "image/png": "[encoded data removed]",
      "text/plain": [
       "<matplotlib.figure.Figure at 0x21a15db8358>"
      ]
     },
     "metadata": {},
     "output_type": "display_data"
    }
   ],
   "source": [
    "annual_names = df.groupby(['year'])['name'].nunique()\n",
    "\n",
    "for year in sorted({1900, 1986, 2015}):\n",
    "    print('Number of unique names in ' + str(year) + ': ' + str(annual_names[year]))\n",
    "\n",
    "annual_names.plot(kind='line', title = 'Number of different names per year')\n",
    "plt.xlim([1900,2015])\n",
    "plt.ylim([0,15000])\n",
    "plt.xlabel('Year')\n",
    "plt.ylabel('Number of different names')\n",
    "plt.show()"
   ]
  },
  {
   "cell_type": "markdown",
   "metadata": {},
   "source": [
    "### Ratio of different names per number of births\n",
    "\n",
    "There is a sharp increase in the number of unique names compared to the increase in the number of births, starting around 1950."
   ]
  },
  {
   "cell_type": "code",
   "execution_count": 47,
   "metadata": {
    "collapsed": false
   },
   "outputs": [
    {
     "data": {
      "image/png": "[encoded data removed]",
      "text/plain": [
       "<matplotlib.figure.Figure at 0x21a17d376a0>"
      ]
     },
     "metadata": {},
     "output_type": "display_data"
    }
   ],
   "source": [
    "ratio = annual_names / annual_births\n",
    "\n",
    "ratio.plot(kind='line', title = 'Ratio of names per births')\n",
    "plt.xlim([1900,2015])\n",
    "plt.ylim([0,0.02])\n",
    "plt.xlabel('Year')\n",
    "plt.ylabel('# names / # births')\n",
    "plt.show()"
   ]
  },
  {
   "cell_type": "markdown",
   "metadata": {},
   "source": [
    "### Rare names\n",
    "\n",
    "We can also notice how the number of people with rare names increased from 2,980 in 1900 (0.01% of births) to 56,107 in 2015 (0.07% of births).\n",
    "\n",
    "Rare names are names with less than 20 people between 1900 and 1945 (condition 1), and less than 20 people between 1946 and 2015 (condition 2)."
   ]
  },
  {
   "cell_type": "code",
   "execution_count": 48,
   "metadata": {
    "collapsed": false
   },
   "outputs": [
    {
     "name": "stdout",
     "output_type": "stream",
     "text": [
      "Rare names in 1900: 2980 people (0.01% of births)\n",
      "Rare names in 2015: 56107 people (0.07% of births)\n"
     ]
    },
    {
     "data": {
      "image/png": "[encoded data removed]",
      "text/plain": [
       "<matplotlib.figure.Figure at 0x21a16569c18>"
      ]
     },
     "metadata": {},
     "output_type": "display_data"
    }
   ],
   "source": [
    "rare_names = df[(df.name) == '_PRENOMS_RARES']\n",
    "rare_names_M = df[((df.name) == '_PRENOMS_RARES') & ((df.sex) == 0)]\n",
    "rare_names_F = df[((df.name) == '_PRENOMS_RARES') & ((df.sex) == 1)]\n",
    "\n",
    "for year in sorted({1900, 2015}):\n",
    "    nb = sum(rare_names[((rare_names.year) == year)].number)\n",
    "    ratio = nb / sum(df[((df.year) == year)].number)\n",
    "    print('Rare names in ' + str(year) + ': ' + \n",
    "          str(nb) + ' people ' +\n",
    "          '(' + str(round(ratio, 2)) + '% of births' + ')')\n",
    "\n",
    "plt.plot(rare_names_M.year, rare_names_M.number, label = 'Males')\n",
    "plt.plot(rare_names_F.year, rare_names_F.number, label = 'Females')\n",
    "plt.xlim([1900,2015])\n",
    "plt.legend(loc='upper left')\n",
    "plt.xlabel('Year')\n",
    "plt.ylabel('Number of people with rare names')\n",
    "plt.title('Number of people with rare names per year')\n",
    "plt.show()"
   ]
  },
  {
   "cell_type": "markdown",
   "metadata": {},
   "source": [
    "## 4. Evolution of the length of names"
   ]
  },
  {
   "cell_type": "markdown",
   "metadata": {},
   "source": [
    "Inspired by INSEE analysis: \n",
    "\n",
    "'L'évolution des prénoms en région Centre : plus courts et plus variés que par le passé'\n",
    "\n",
    "('The evolution of first names in the Centre region of France: shorter and more diverse than in the past'\n",
    "\n",
    "https://www.insee.fr/fr/statistiques/1292923"
   ]
  },
  {
   "cell_type": "code",
   "execution_count": 49,
   "metadata": {
    "collapsed": false
   },
   "outputs": [
    {
     "data": {
      "image/png": "[encoded data removed]",
      "text/plain": [
       "<matplotlib.figure.Figure at 0x21a15f7cc88>"
      ]
     },
     "metadata": {},
     "output_type": "display_data"
    }
   ],
   "source": [
    "# Calculate length of names per year weighted by the number of births\n",
    "names_length = {}\n",
    "for i in range(len(df.index)):\n",
    "    if df.iloc[i]['year'] in names_length:\n",
    "        names_length[df.iloc[i]['year']] += len(str(df.iloc[i]['name'])) * df.iloc[i]['number']\n",
    "    else:\n",
    "        names_length[df.iloc[i]['year']] = len(str(df.iloc[i]['name'])) * df.iloc[i]['number']\n",
    "\n",
    "# Create a dataframe from the dictionnary\n",
    "length = pd.DataFrame.from_dict(names_length, orient='index')\n",
    "length['year'] = length.index\n",
    "length = length.rename(columns = {0:'length'})\n",
    "\n",
    "# Sort rows by increasing years\n",
    "length = length.sort_values(by='year')\n",
    "\n",
    "# Reorder columns\n",
    "length = length[['year', 'length']] \n",
    "\n",
    "# Add a column with number of births per year\n",
    "length['births'] = df.groupby(['year'])['number'].sum()\n",
    "\n",
    "# Add a column with mean length of names per year (mean weighted by number of births)\n",
    "length['avg_length'] = length['length'] / length['births']\n",
    "\n",
    "# Create graph\n",
    "plt.plot(length.year, length.avg_length)\n",
    "plt.xlabel('Year')\n",
    "plt.ylabel('Mean name length (weighted avg)')\n",
    "plt.xlim([1900,2016])\n",
    "plt.show()"
   ]
  },
  {
   "cell_type": "code",
   "execution_count": 52,
   "metadata": {
    "collapsed": false
   },
   "outputs": [
    {
     "name": "stdout",
     "output_type": "stream",
     "text": [
      "          sex    name  year  number\n",
      "119020  False    JEAN  1900   14108\n",
      "154339  False   LOUIS  1900    9057\n",
      "201834  False  PIERRE  1900    7460\n",
      "         sex        name  year  number\n",
      "462449  True       MARIE  1900   48727\n",
      "403785  True      JEANNE  1900   13983\n",
      "460374  True  MARGUERITE  1900    8059\n",
      "          sex        name  year  number\n",
      "47397   False  CHRISTOPHE  1970   21856\n",
      "235971  False    STÉPHANE  1970   21796\n",
      "148072  False     LAURENT  1970   19957\n",
      "         sex      name  year  number\n",
      "503215  True  NATHALIE  1970   26217\n",
      "574404  True   VALÉRIE  1970   19390\n",
      "542332  True  SANDRINE  1970   18056\n",
      "          sex            name  year  number\n",
      "267672  False  _PRENOMS_RARES  2010   23075\n",
      "186808  False          NATHAN  2010    7034\n",
      "156527  False           LUCAS  2010    6922\n",
      "         sex            name  year  number\n",
      "588631  True  _PRENOMS_RARES  2010   24482\n",
      "354183  True            EMMA  2010    6401\n",
      "458367  True           MANON  2010    5044\n"
     ]
    }
   ],
   "source": [
    "# Can correlate with the top names in 1900, 1970 and 2010\n",
    "def top_names(year):\n",
    "    dfyrM = df[((df.year) == year) & ((df.sex) == 0)]\n",
    "    dfyrM = dfyrM.sort_values(by = 'number', ascending = False)\n",
    "    print(dfyrM.head(3))\n",
    "    \n",
    "    dfyrF = df[((df.year) == year) & ((df.sex) == 1)]\n",
    "    dfyrF = dfyrF.sort_values(by = 'number', ascending = False)\n",
    "    print(dfyrF.head(3))\n",
    "\n",
    "top_names(1900)\n",
    "top_names(1970)\n",
    "top_names(2010)"
   ]
  },
  {
   "cell_type": "markdown",
   "metadata": {
    "collapsed": true
   },
   "source": [
    "TO DO LIST:\n",
    "- Convert 'years' into integer not float - DONE better to have missing values though, maybe create 2 separate dataframes?\n",
    "- Address the Warning User messages - DONE (that was linked to how I created sub dataframes)\n",
    "- Create function to show stats on a given name and birth year - DONE BUT CAN ADD MORE\n",
    "- Study the evolution of the length of names - OK BUT SLOW (6 min)\n",
    "- Create function to 'predict' birth year based on the name? Would only work for names with peaks\n",
    "- "
   ]
  },
  {
   "cell_type": "code",
   "execution_count": null,
   "metadata": {
    "collapsed": true
   },
   "outputs": [],
   "source": []
  },
  {
   "cell_type": "code",
   "execution_count": null,
   "metadata": {
    "collapsed": true
   },
   "outputs": [],
   "source": []
  }
 ],
 "metadata": {
  "kernelspec": {
   "display_name": "Python 3",
   "language": "python",
   "name": "python3"
  },
  "language_info": {
   "codemirror_mode": {
    "name": "ipython",
    "version": 3
   },
   "file_extension": ".py",
   "mimetype": "text/x-python",
   "name": "python",
   "nbconvert_exporter": "python",
   "pygments_lexer": "ipython3",
   "version": "3.6.0"
  }
 },
 "nbformat": 4,
 "nbformat_minor": 2
}
